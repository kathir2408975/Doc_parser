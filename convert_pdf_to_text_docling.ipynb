{
 "cells": [
  {
   "cell_type": "code",
   "execution_count": null,
   "id": "28326c05",
   "metadata": {},
   "outputs": [],
   "source": [
    "from docling.document_converter import DocumentConverter"
   ]
  },
  {
   "cell_type": "code",
   "execution_count": null,
   "id": "7252bd3d",
   "metadata": {},
   "outputs": [],
   "source": [
    "source = \"tableData_Program_Appraisal_Document_1.pdf\"\n",
    " \n",
    "converter = DocumentConverter()\n",
    "result = converter.convert(source)\n",
    "final = result.document.export_to_markdown()\n",
    "# tables = result.document.tables\n",
    "# # Print tables list (will show TableItem references)\n",
    "# print(tables)\n",
    " \n",
    "# # Loop over each table\n",
    "for idx, table in enumerate(result.document.tables):\n",
    "    print(f\"\\n📄 Table {idx + 1}\")\n",
    "   \n",
    "    # Each table has a list of ProvenanceItem(s), each with a page_no and bbox\n",
    "    for prov in table.prov:\n",
    "        print(f\"Page No: {prov.page_no}\")\n",
    "        bbox = prov.bbox\n",
    "        print(f\"BBox: left={bbox.l}, top={bbox.t}, right={bbox.r}, bottom={bbox.b}\")"
   ]
  },
  {
   "cell_type": "code",
   "execution_count": null,
   "id": "bad59cd0",
   "metadata": {},
   "outputs": [],
   "source": [
    "with open(\"docling_output_full_file.md\", \"w\", encoding='utf-8') as f:\n",
    "    f.write(\"# Docling Output\\n\\n\")\n",
    "    f.write(result.document.export_to_markdown())"
   ]
  }
 ],
 "metadata": {
  "kernelspec": {
   "display_name": "venv",
   "language": "python",
   "name": "python3"
  },
  "language_info": {
   "name": "python",
   "version": "3.10.0"
  }
 },
 "nbformat": 4,
 "nbformat_minor": 5
}
